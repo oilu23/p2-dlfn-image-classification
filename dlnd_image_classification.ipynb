{
 "cells": [
  {
   "cell_type": "markdown",
   "metadata": {
    "collapsed": true
   },
   "source": [
    "# Image Classification\n",
    "In this project, you'll classify images from the [CIFAR-10 dataset](https://www.cs.toronto.edu/~kriz/cifar.html).  The dataset consists of airplanes, dogs, cats, and other objects. You'll preprocess the images, then train a convolutional neural network on all the samples. The images need to be normalized and the labels need to be one-hot encoded.  You'll get to apply what you learned and build a convolutional, max pooling, dropout, and fully connected layers.  At the end, you'll get to see your neural network's predictions on the sample images.\n",
    "## Get the Data\n",
    "Run the following cell to download the [CIFAR-10 dataset for python](https://www.cs.toronto.edu/~kriz/cifar-10-python.tar.gz)."
   ]
  },
  {
   "cell_type": "code",
   "execution_count": 1,
   "metadata": {},
   "outputs": [
    {
     "name": "stdout",
     "output_type": "stream",
     "text": [
      "All files found!\n"
     ]
    }
   ],
   "source": [
    "\"\"\"\n",
    "DON'T MODIFY ANYTHING IN THIS CELL THAT IS BELOW THIS LINE\n",
    "\"\"\"\n",
    "from urllib.request import urlretrieve\n",
    "from os.path import isfile, isdir\n",
    "from tqdm import tqdm\n",
    "import problem_unittests as tests\n",
    "import tarfile\n",
    "\n",
    "cifar10_dataset_folder_path = 'cifar-10-batches-py'\n",
    "\n",
    "# Use Floyd's cifar-10 dataset if present\n",
    "floyd_cifar10_location = '/input/cifar-10/python.tar.gz'\n",
    "if isfile(floyd_cifar10_location):\n",
    "    tar_gz_path = floyd_cifar10_location\n",
    "else:\n",
    "    tar_gz_path = 'cifar-10-python.tar.gz'\n",
    "\n",
    "class DLProgress(tqdm):\n",
    "    last_block = 0\n",
    "\n",
    "    def hook(self, block_num=1, block_size=1, total_size=None):\n",
    "        self.total = total_size\n",
    "        self.update((block_num - self.last_block) * block_size)\n",
    "        self.last_block = block_num\n",
    "\n",
    "if not isfile(tar_gz_path):\n",
    "    with DLProgress(unit='B', unit_scale=True, miniters=1, desc='CIFAR-10 Dataset') as pbar:\n",
    "        urlretrieve(\n",
    "            'https://www.cs.toronto.edu/~kriz/cifar-10-python.tar.gz',\n",
    "            tar_gz_path,\n",
    "            pbar.hook)\n",
    "\n",
    "if not isdir(cifar10_dataset_folder_path):\n",
    "    with tarfile.open(tar_gz_path) as tar:\n",
    "        tar.extractall()\n",
    "        tar.close()\n",
    "\n",
    "\n",
    "tests.test_folder_path(cifar10_dataset_folder_path)"
   ]
  },
  {
   "cell_type": "markdown",
   "metadata": {},
   "source": [
    "## Explore the Data\n",
    "The dataset is broken into batches to prevent your machine from running out of memory.  The CIFAR-10 dataset consists of 5 batches, named `data_batch_1`, `data_batch_2`, etc.. Each batch contains the labels and images that are one of the following:\n",
    "* airplane\n",
    "* automobile\n",
    "* bird\n",
    "* cat\n",
    "* deer\n",
    "* dog\n",
    "* frog\n",
    "* horse\n",
    "* ship\n",
    "* truck\n",
    "\n",
    "Understanding a dataset is part of making predictions on the data.  Play around with the code cell below by changing the `batch_id` and `sample_id`. The `batch_id` is the id for a batch (1-5). The `sample_id` is the id for a image and label pair in the batch.\n",
    "\n",
    "Ask yourself \"What are all possible labels?\", \"What is the range of values for the image data?\", \"Are the labels in order or random?\".  Answers to questions like these will help you preprocess the data and end up with better predictions."
   ]
  },
  {
   "cell_type": "code",
   "execution_count": 3,
   "metadata": {},
   "outputs": [
    {
     "name": "stdout",
     "output_type": "stream",
     "text": [
      "\n",
      "Stats of batch 2:\n",
      "Samples: 10000\n",
      "Label Counts: {0: 984, 1: 1007, 2: 1010, 3: 995, 4: 1010, 5: 988, 6: 1008, 7: 1026, 8: 987, 9: 985}\n",
      "First 20 Labels: [1, 6, 6, 8, 8, 3, 4, 6, 0, 6, 0, 3, 6, 6, 5, 4, 8, 3, 2, 6]\n",
      "\n",
      "Example of Image 2:\n",
      "Image - Min Value: 0 Max Value: 240\n",
      "Image - Shape: (32, 32, 3)\n",
      "Label - Label Id: 6 Name: frog\n"
     ]
    },
    {
     "data": {
      "image/png": "[encoded data removed]",
      "text/plain": [
       "<matplotlib.figure.Figure at 0x7f4fbf8100b8>"
      ]
     },
     "metadata": {
      "image/png": {
       "height": 250,
       "width": 253
      }
     },
     "output_type": "display_data"
    }
   ],
   "source": [
    "%matplotlib inline\n",
    "%config InlineBackend.figure_format = 'retina'\n",
    "\n",
    "import helper\n",
    "import numpy as np\n",
    "\n",
    "# Explore the dataset\n",
    "batch_id = 2\n",
    "sample_id = 2\n",
    "helper.display_stats(cifar10_dataset_folder_path, batch_id, sample_id)"
   ]
  },
  {
   "cell_type": "markdown",
   "metadata": {},
   "source": [
    "## Implement Preprocess Functions\n",
    "### Normalize\n",
    "In the cell below, implement the `normalize` function to take in image data, `x`, and return it as a normalized Numpy array. The values should be in the range of 0 to 1, inclusive.  The return object should be the same shape as `x`."
   ]
  },
  {
   "cell_type": "code",
   "execution_count": 4,
   "metadata": {},
   "outputs": [
    {
     "name": "stdout",
     "output_type": "stream",
     "text": [
      "Tests Passed\n"
     ]
    }
   ],
   "source": [
    "def normalize(x):\n",
    "    \"\"\"\n",
    "    Normalize a list of sample image data in the range of 0 to 1\n",
    "    : x: List of image data.  The image shape is (32, 32, 3)\n",
    "    : return: Numpy array of normalize data\n",
    "    \"\"\"\n",
    "    # TODO: Implement Function\n",
    "    x = np.array(x/255.0)\n",
    "    return x\n",
    "\n",
    "\n",
    "\"\"\"\n",
    "DON'T MODIFY ANYTHING IN THIS CELL THAT IS BELOW THIS LINE\n",
    "\"\"\"\n",
    "tests.test_normalize(normalize)"
   ]
  },
  {
   "cell_type": "markdown",
   "metadata": {},
   "source": [
    "### One-hot encode\n",
    "Just like the previous code cell, you'll be implementing a function for preprocessing.  This time, you'll implement the `one_hot_encode` function. The input, `x`, are a list of labels.  Implement the function to return the list of labels as One-Hot encoded Numpy array.  The possible values for labels are 0 to 9. The one-hot encoding function should return the same encoding for each value between each call to `one_hot_encode`.  Make sure to save the map of encodings outside the function.\n",
    "\n",
    "Hint: Don't reinvent the wheel."
   ]
  },
  {
   "cell_type": "code",
   "execution_count": 6,
   "metadata": {},
   "outputs": [
    {
     "name": "stdout",
     "output_type": "stream",
     "text": [
      "Tests Passed\n"
     ]
    }
   ],
   "source": [
    "def one_hot_encode(x):\n",
    "    \"\"\"\n",
    "    One hot encode a list of sample labels. Return a one-hot encoded vector for each label.\n",
    "    : x: List of sample Labels\n",
    "    : return: Numpy array of one-hot encoded labels\n",
    "    \"\"\"\n",
    "    # TODO: Implement Function\n",
    "    x = np.eye(10)[x]\n",
    "    return x\n",
    "\n",
    "\n",
    "\"\"\"\n",
    "DON'T MODIFY ANYTHING IN THIS CELL THAT IS BELOW THIS LINE\n",
    "\"\"\"\n",
    "tests.test_one_hot_encode(one_hot_encode)"
   ]
  },
  {
   "cell_type": "markdown",
   "metadata": {},
   "source": [
    "### Randomize Data\n",
    "As you saw from exploring the data above, the order of the samples are randomized.  It doesn't hurt to randomize it again, but you don't need to for this dataset."
   ]
  },
  {
   "cell_type": "markdown",
   "metadata": {},
   "source": [
    "## Preprocess all the data and save it\n",
    "Running the code cell below will preprocess all the CIFAR-10 data and save it to file. The code below also uses 10% of the training data for validation."
   ]
  },
  {
   "cell_type": "code",
   "execution_count": 7,
   "metadata": {
    "collapsed": true
   },
   "outputs": [],
   "source": [
    "\"\"\"\n",
    "DON'T MODIFY ANYTHING IN THIS CELL\n",
    "\"\"\"\n",
    "# Preprocess Training, Validation, and Testing Data\n",
    "helper.preprocess_and_save_data(cifar10_dataset_folder_path, normalize, one_hot_encode)"
   ]
  },
  {
   "cell_type": "markdown",
   "metadata": {},
   "source": [
    "# Check Point\n",
    "This is your first checkpoint.  If you ever decide to come back to this notebook or have to restart the notebook, you can start from here.  The preprocessed data has been saved to disk."
   ]
  },
  {
   "cell_type": "code",
   "execution_count": 8,
   "metadata": {
    "collapsed": true
   },
   "outputs": [],
   "source": [
    "\"\"\"\n",
    "DON'T MODIFY ANYTHING IN THIS CELL\n",
    "\"\"\"\n",
    "import pickle\n",
    "import problem_unittests as tests\n",
    "import helper\n",
    "\n",
    "# Load the Preprocessed Validation data\n",
    "valid_features, valid_labels = pickle.load(open('preprocess_validation.p', mode='rb'))"
   ]
  },
  {
   "cell_type": "markdown",
   "metadata": {},
   "source": [
    "## Build the network\n",
    "For the neural network, you'll build each layer into a function.  Most of the code you've seen has been outside of functions. To test your code more thoroughly, we require that you put each layer in a function.  This allows us to give you better feedback and test for simple mistakes using our unittests before you submit your project.\n",
    "\n",
    ">**Note:** If you're finding it hard to dedicate enough time for this course each week, we've provided a small shortcut to this part of the project. In the next couple of problems, you'll have the option to use classes from the [TensorFlow Layers](https://www.tensorflow.org/api_docs/python/tf/layers) or [TensorFlow Layers (contrib)](https://www.tensorflow.org/api_guides/python/contrib.layers) packages to build each layer, except the layers you build in the \"Convolutional and Max Pooling Layer\" section.  TF Layers is similar to Keras's and TFLearn's abstraction to layers, so it's easy to pickup.\n",
    "\n",
    ">However, if you would like to get the most out of this course, try to solve all the problems _without_ using anything from the TF Layers packages. You **can** still use classes from other packages that happen to have the same name as ones you find in TF Layers! For example, instead of using the TF Layers version of the `conv2d` class, [tf.layers.conv2d](https://www.tensorflow.org/api_docs/python/tf/layers/conv2d), you would want to use the TF Neural Network version of `conv2d`, [tf.nn.conv2d](https://www.tensorflow.org/api_docs/python/tf/nn/conv2d). \n",
    "\n",
    "Let's begin!\n",
    "\n",
    "### Input\n",
    "The neural network needs to read the image data, one-hot encoded labels, and dropout keep probability. Implement the following functions\n",
    "* Implement `neural_net_image_input`\n",
    " * Return a [TF Placeholder](https://www.tensorflow.org/api_docs/python/tf/placeholder)\n",
    " * Set the shape using `image_shape` with batch size set to `None`.\n",
    " * Name the TensorFlow placeholder \"x\" using the TensorFlow `name` parameter in the [TF Placeholder](https://www.tensorflow.org/api_docs/python/tf/placeholder).\n",
    "* Implement `neural_net_label_input`\n",
    " * Return a [TF Placeholder](https://www.tensorflow.org/api_docs/python/tf/placeholder)\n",
    " * Set the shape using `n_classes` with batch size set to `None`.\n",
    " * Name the TensorFlow placeholder \"y\" using the TensorFlow `name` parameter in the [TF Placeholder](https://www.tensorflow.org/api_docs/python/tf/placeholder).\n",
    "* Implement `neural_net_keep_prob_input`\n",
    " * Return a [TF Placeholder](https://www.tensorflow.org/api_docs/python/tf/placeholder) for dropout keep probability.\n",
    " * Name the TensorFlow placeholder \"keep_prob\" using the TensorFlow `name` parameter in the [TF Placeholder](https://www.tensorflow.org/api_docs/python/tf/placeholder).\n",
    "\n",
    "These names will be used at the end of the project to load your saved model.\n",
    "\n",
    "Note: `None` for shapes in TensorFlow allow for a dynamic size."
   ]
  },
  {
   "cell_type": "code",
   "execution_count": 9,
   "metadata": {},
   "outputs": [
    {
     "name": "stdout",
     "output_type": "stream",
     "text": [
      "Image Input Tests Passed.\n",
      "Label Input Tests Passed.\n",
      "Keep Prob Tests Passed.\n"
     ]
    }
   ],
   "source": [
    "import tensorflow as tf\n",
    "\n",
    "def neural_net_image_input(image_shape):\n",
    "    \"\"\"\n",
    "    Return a Tensor for a batch of image input\n",
    "    : image_shape: Shape of the images\n",
    "    : return: Tensor for image input.\n",
    "    \"\"\"\n",
    "    # TODO: Implement Function\n",
    "    return tf.placeholder(tf.float32, [None, image_shape[0], image_shape[1], image_shape[2]], name=\"x\")\n",
    "\n",
    "\n",
    "def neural_net_label_input(n_classes):\n",
    "    \"\"\"\n",
    "    Return a Tensor for a batch of label input\n",
    "    : n_classes: Number of classes\n",
    "    : return: Tensor for label input.\n",
    "    \"\"\"\n",
    "    # TODO: Implement Function\n",
    "    return tf.placeholder(tf.float32, [None, n_classes], name=\"y\")\n",
    "\n",
    "\n",
    "def neural_net_keep_prob_input():\n",
    "    \"\"\"\n",
    "    Return a Tensor for keep probability\n",
    "    : return: Tensor for keep probability.\n",
    "    \"\"\"\n",
    "    # TODO: Implement Function\n",
    "    return tf.placeholder(tf.float32, name=\"keep_prob\")\n",
    "\n",
    "\n",
    "\"\"\"\n",
    "DON'T MODIFY ANYTHING IN THIS CELL THAT IS BELOW THIS LINE\n",
    "\"\"\"\n",
    "tf.reset_default_graph()\n",
    "tests.test_nn_image_inputs(neural_net_image_input)\n",
    "tests.test_nn_label_inputs(neural_net_label_input)\n",
    "tests.test_nn_keep_prob_inputs(neural_net_keep_prob_input)"
   ]
  },
  {
   "cell_type": "markdown",
   "metadata": {},
   "source": [
    "### Convolution and Max Pooling Layer\n",
    "Convolution layers have a lot of success with images. For this code cell, you should implement the function `conv2d_maxpool` to apply convolution then max pooling:\n",
    "* Create the weight and bias using `conv_ksize`, `conv_num_outputs` and the shape of `x_tensor`.\n",
    "* Apply a convolution to `x_tensor` using weight and `conv_strides`.\n",
    " * We recommend you use same padding, but you're welcome to use any padding.\n",
    "* Add bias\n",
    "* Add a nonlinear activation to the convolution.\n",
    "* Apply Max Pooling using `pool_ksize` and `pool_strides`.\n",
    " * We recommend you use same padding, but you're welcome to use any padding.\n",
    "\n",
    "**Note:** You **can't** use [TensorFlow Layers](https://www.tensorflow.org/api_docs/python/tf/layers) or [TensorFlow Layers (contrib)](https://www.tensorflow.org/api_guides/python/contrib.layers) for **this** layer, but you can still use TensorFlow's [Neural Network](https://www.tensorflow.org/api_docs/python/tf/nn) package. You may still use the shortcut option for all the **other** layers."
   ]
  },
  {
   "cell_type": "code",
   "execution_count": 10,
   "metadata": {},
   "outputs": [
    {
     "name": "stdout",
     "output_type": "stream",
     "text": [
      "Tests Passed\n"
     ]
    }
   ],
   "source": [
    "def conv2d_maxpool(x_tensor, conv_num_outputs, conv_ksize, conv_strides, pool_ksize, pool_strides):\n",
    "    \"\"\"\n",
    "    Apply convolution then max pooling to x_tensor\n",
    "    :param x_tensor: TensorFlow Tensor\n",
    "    :param conv_num_outputs: Number of outputs for the convolutional layer\n",
    "    :param conv_ksize: kernal size 2-D Tuple for the convolutional layer\n",
    "    :param conv_strides: Stride 2-D Tuple for convolution\n",
    "    :param pool_ksize: kernal size 2-D Tuple for pool\n",
    "    :param pool_strides: Stride 2-D Tuple for pool\n",
    "    : return: A tensor that represents convolution and max pooling of x_tensor\n",
    "    \"\"\"\n",
    "    # TODO: Implement Function\n",
    "    weights = tf.Variable(tf.truncated_normal([conv_ksize[0],conv_ksize[1], x_tensor.get_shape()[3].value, \n",
    "                                                conv_num_outputs], stddev=0.01))\n",
    "    \n",
    "    # Create the bias\n",
    "    bias = tf.Variable(tf.zeros([conv_num_outputs]))\n",
    "    \n",
    "    # Apply a convolution to x_tensor using weight and conv_strides.\n",
    "    conv_layer = tf.nn.conv2d(x_tensor, weights, strides=[1, conv_strides[0], conv_strides[1], 1], padding='SAME')\n",
    "    \n",
    "    #Add bias\n",
    "    conv_layer = tf.nn.bias_add(conv_layer, bias)\n",
    "    \n",
    "    #Add a nonlinear activation to the convolution.\n",
    "    conv_layer = tf.nn.relu(conv_layer)\n",
    "    \n",
    "    #Apply Max Pooling using pool_ksize and pool_strides.\n",
    "    conv_layer = tf.nn.max_pool(conv_layer, ksize=[1, pool_ksize[0], pool_ksize[1], 1], strides=[1, pool_strides[0], \n",
    "                                pool_strides[1], 1], padding='SAME')\n",
    "    \n",
    "    return conv_layer\n",
    "\n",
    "\n",
    "\"\"\"\n",
    "DON'T MODIFY ANYTHING IN THIS CELL THAT IS BELOW THIS LINE\n",
    "\"\"\"\n",
    "tests.test_con_pool(conv2d_maxpool)"
   ]
  },
  {
   "cell_type": "markdown",
   "metadata": {},
   "source": [
    "### Flatten Layer\n",
    "Implement the `flatten` function to change the dimension of `x_tensor` from a 4-D tensor to a 2-D tensor.  The output should be the shape (*Batch Size*, *Flattened Image Size*). Shortcut option: you can use classes from the [TensorFlow Layers](https://www.tensorflow.org/api_docs/python/tf/layers) or [TensorFlow Layers (contrib)](https://www.tensorflow.org/api_guides/python/contrib.layers) packages for this layer. For more of a challenge, only use other TensorFlow packages."
   ]
  },
  {
   "cell_type": "code",
   "execution_count": 11,
   "metadata": {},
   "outputs": [
    {
     "name": "stdout",
     "output_type": "stream",
     "text": [
      "Tests Passed\n"
     ]
    }
   ],
   "source": [
    "def flatten(x_tensor):\n",
    "    \"\"\"\n",
    "    Flatten x_tensor to (Batch Size, Flattened Image Size)\n",
    "    : x_tensor: A tensor of size (Batch Size, ...), where ... are the image dimensions.\n",
    "    : return: A tensor of size (Batch Size, Flattened Image Size).\n",
    "    \"\"\"\n",
    "    # TODO: Implement Function\n",
    "    return tf.reshape(x_tensor, [-1, x_tensor.get_shape()[1].value * x_tensor.get_shape()[2].value* \n",
    "                                 x_tensor.get_shape()[3].value])\n",
    "\n",
    "\n",
    "\"\"\"\n",
    "DON'T MODIFY ANYTHING IN THIS CELL THAT IS BELOW THIS LINE\n",
    "\"\"\"\n",
    "tests.test_flatten(flatten)"
   ]
  },
  {
   "cell_type": "markdown",
   "metadata": {},
   "source": [
    "### Fully-Connected Layer\n",
    "Implement the `fully_conn` function to apply a fully connected layer to `x_tensor` with the shape (*Batch Size*, *num_outputs*). Shortcut option: you can use classes from the [TensorFlow Layers](https://www.tensorflow.org/api_docs/python/tf/layers) or [TensorFlow Layers (contrib)](https://www.tensorflow.org/api_guides/python/contrib.layers) packages for this layer. For more of a challenge, only use other TensorFlow packages."
   ]
  },
  {
   "cell_type": "code",
   "execution_count": 12,
   "metadata": {},
   "outputs": [
    {
     "name": "stdout",
     "output_type": "stream",
     "text": [
      "Tests Passed\n"
     ]
    }
   ],
   "source": [
    "def fully_conn(x_tensor, num_outputs):\n",
    "    \"\"\"\n",
    "    Apply a fully connected layer to x_tensor using weight and bias\n",
    "    : x_tensor: A 2-D tensor where the first dimension is batch size.\n",
    "    : num_outputs: The number of output that the new tensor should be.\n",
    "    : return: A 2-D tensor where the second dimension is num_outputs.\n",
    "    \"\"\"\n",
    "    # TODO: Implement Function\n",
    "    shape = x_tensor.get_shape().as_list()\n",
    "    weights = tf.Variable(tf.truncated_normal([shape[-1], num_outputs], stddev=0.01))\n",
    "    bias = tf.Variable(tf.zeros(num_outputs))\n",
    "    \n",
    "    layer = tf.matmul(x_tensor, weights)\n",
    "    layer = tf.add(layer, bias)\n",
    "    layer = tf.nn.relu(layer)\n",
    "    return layer\n",
    "\n",
    "\n",
    "\"\"\"\n",
    "DON'T MODIFY ANYTHING IN THIS CELL THAT IS BELOW THIS LINE\n",
    "\"\"\"\n",
    "tests.test_fully_conn(fully_conn)"
   ]
  },
  {
   "cell_type": "markdown",
   "metadata": {},
   "source": [
    "### Output Layer\n",
    "Implement the `output` function to apply a fully connected layer to `x_tensor` with the shape (*Batch Size*, *num_outputs*). Shortcut option: you can use classes from the [TensorFlow Layers](https://www.tensorflow.org/api_docs/python/tf/layers) or [TensorFlow Layers (contrib)](https://www.tensorflow.org/api_guides/python/contrib.layers) packages for this layer. For more of a challenge, only use other TensorFlow packages.\n",
    "\n",
    "**Note:** Activation, softmax, or cross entropy should **not** be applied to this."
   ]
  },
  {
   "cell_type": "code",
   "execution_count": 13,
   "metadata": {},
   "outputs": [
    {
     "name": "stdout",
     "output_type": "stream",
     "text": [
      "Tests Passed\n"
     ]
    }
   ],
   "source": [
    "def output(x_tensor, num_outputs):\n",
    "    \"\"\"\n",
    "    Apply a output layer to x_tensor using weight and bias\n",
    "    : x_tensor: A 2-D tensor where the first dimension is batch size.\n",
    "    : num_outputs: The number of output that the new tensor should be.\n",
    "    : return: A 2-D tensor where the second dimension is num_outputs.\n",
    "    \"\"\"\n",
    "    # TODO: Implement Function\n",
    "    shape = x_tensor.get_shape().as_list()\n",
    "    weights = tf.Variable(tf.random_normal([shape[-1], num_outputs]))\n",
    "    bias = tf.Variable(tf.zeros(num_outputs))\n",
    "    \n",
    "    layer = tf.matmul(x_tensor, weights)\n",
    "    layer = tf.add(layer, bias)\n",
    "    \n",
    "    return layer\n",
    "\n",
    "\n",
    "\"\"\"\n",
    "DON'T MODIFY ANYTHING IN THIS CELL THAT IS BELOW THIS LINE\n",
    "\"\"\"\n",
    "tests.test_output(output)"
   ]
  },
  {
   "cell_type": "markdown",
   "metadata": {},
   "source": [
    "### Create Convolutional Model\n",
    "Implement the function `conv_net` to create a convolutional neural network model. The function takes in a batch of images, `x`, and outputs logits.  Use the layers you created above to create this model:\n",
    "\n",
    "* Apply 1, 2, or 3 Convolution and Max Pool layers\n",
    "* Apply a Flatten Layer\n",
    "* Apply 1, 2, or 3 Fully Connected Layers\n",
    "* Apply an Output Layer\n",
    "* Return the output\n",
    "* Apply [TensorFlow's Dropout](https://www.tensorflow.org/api_docs/python/tf/nn/dropout) to one or more layers in the model using `keep_prob`. "
   ]
  },
  {
   "cell_type": "code",
   "execution_count": 14,
   "metadata": {},
   "outputs": [
    {
     "name": "stdout",
     "output_type": "stream",
     "text": [
      "Neural Network Built!\n"
     ]
    }
   ],
   "source": [
    "def conv_net(x, keep_prob):\n",
    "    \"\"\"\n",
    "    Create a convolutional neural network model\n",
    "    : x: Placeholder tensor that holds image data.\n",
    "    : keep_prob: Placeholder tensor that hold dropout keep probability.\n",
    "    : return: Tensor that represents logits\n",
    "    \"\"\"\n",
    "    # TODO: Apply 1, 2, or 3 Convolution and Max Pool layers\n",
    "    #    Play around with different number of outputs, kernel size and stride\n",
    "    # Function Definition from Above:\n",
    "    #    conv2d_maxpool(x_tensor, conv_num_outputs, conv_ksize, conv_strides, pool_ksize, pool_strides)\n",
    "    x_tensor = x\n",
    "    conv_num_outputs = 16\n",
    "    conv_ksize = (4,4)\n",
    "    conv_strides = (1,1)\n",
    "    pool_ksize = (2,2)\n",
    "    pool_strides = (2,2)\n",
    "    \n",
    "    layer1 = conv2d_maxpool(x_tensor, conv_num_outputs, conv_ksize, conv_strides, pool_ksize, pool_strides)\n",
    "    \n",
    "    conv_num_outputs = 32\n",
    "    layer2 = conv2d_maxpool(x_tensor, conv_num_outputs, conv_ksize, conv_strides, pool_ksize, pool_strides)\n",
    "    \n",
    "    conv_num_outputs = 64\n",
    "    layer3 = conv2d_maxpool(x_tensor, conv_num_outputs, conv_ksize, conv_strides, pool_ksize, pool_strides)\n",
    "    \n",
    "    conv_out = layer3\n",
    "\n",
    "    # TODO: Apply a Flatten Layer\n",
    "    # Function Definition from Above:\n",
    "    #   flatten(x_tensor)\n",
    "    conv_flat_out = flatten(conv_out)\n",
    "\n",
    "    \n",
    "    # TODO: Apply 1, 2, or 3 Fully Connected Layers\n",
    "    #    Play around with different number of outputs\n",
    "    # Function Definition from Above:\n",
    "    #   fully_conn(x_tensor, num_outputs)\n",
    "    num_outputs = 64\n",
    "    fully_connected1 = fully_conn(conv_flat_out, num_outputs)\n",
    "    fully_connected1 = tf.nn.dropout(fully_connected1, keep_prob)\n",
    "    \n",
    "    num_outputs = 32\n",
    "    fully_connected2 = fully_conn(fully_connected1, num_outputs)\n",
    "    fully_connected2 = tf.nn.dropout(fully_connected2, keep_prob)\n",
    "    \n",
    "    \n",
    "    # TODO: Apply an Output Layer\n",
    "    #    Set this to the number of classes\n",
    "    # Function Definition from Above:\n",
    "    #   output(x_tensor, num_outputs)\n",
    "    num_outputs = 10\n",
    "    output_layer = output(fully_connected2, num_outputs)\n",
    "    \n",
    "    # TODO: return output\n",
    "    return output_layer\n",
    "\n",
    "\n",
    "\"\"\"\n",
    "DON'T MODIFY ANYTHING IN THIS CELL THAT IS BELOW THIS LINE\n",
    "\"\"\"\n",
    "\n",
    "##############################\n",
    "## Build the Neural Network ##\n",
    "##############################\n",
    "\n",
    "# Remove previous weights, bias, inputs, etc..\n",
    "tf.reset_default_graph()\n",
    "\n",
    "# Inputs\n",
    "x = neural_net_image_input((32, 32, 3))\n",
    "y = neural_net_label_input(10)\n",
    "keep_prob = neural_net_keep_prob_input()\n",
    "\n",
    "# Model\n",
    "logits = conv_net(x, keep_prob)\n",
    "\n",
    "# Name logits Tensor, so that is can be loaded from disk after training\n",
    "logits = tf.identity(logits, name='logits')\n",
    "\n",
    "# Loss and Optimizer\n",
    "cost = tf.reduce_mean(tf.nn.softmax_cross_entropy_with_logits(logits=logits, labels=y))\n",
    "optimizer = tf.train.AdamOptimizer().minimize(cost)\n",
    "\n",
    "# Accuracy\n",
    "correct_pred = tf.equal(tf.argmax(logits, 1), tf.argmax(y, 1))\n",
    "accuracy = tf.reduce_mean(tf.cast(correct_pred, tf.float32), name='accuracy')\n",
    "\n",
    "tests.test_conv_net(conv_net)"
   ]
  },
  {
   "cell_type": "markdown",
   "metadata": {},
   "source": [
    "## Train the Neural Network\n",
    "### Single Optimization\n",
    "Implement the function `train_neural_network` to do a single optimization.  The optimization should use `optimizer` to optimize in `session` with a `feed_dict` of the following:\n",
    "* `x` for image input\n",
    "* `y` for labels\n",
    "* `keep_prob` for keep probability for dropout\n",
    "\n",
    "This function will be called for each batch, so `tf.global_variables_initializer()` has already been called.\n",
    "\n",
    "Note: Nothing needs to be returned. This function is only optimizing the neural network."
   ]
  },
  {
   "cell_type": "code",
   "execution_count": 15,
   "metadata": {},
   "outputs": [
    {
     "name": "stdout",
     "output_type": "stream",
     "text": [
      "Tests Passed\n"
     ]
    }
   ],
   "source": [
    "def train_neural_network(session, optimizer, keep_probability, feature_batch, label_batch):\n",
    "    \"\"\"\n",
    "    Optimize the session on a batch of images and labels\n",
    "    : session: Current TensorFlow session\n",
    "    : optimizer: TensorFlow optimizer function\n",
    "    : keep_probability: keep probability\n",
    "    : feature_batch: Batch of Numpy image data\n",
    "    : label_batch: Batch of Numpy label data\n",
    "    \"\"\"\n",
    "    # TODO: Implement Function\n",
    "    session.run(optimizer,feed_dict={x:feature_batch, y:label_batch, keep_prob:keep_probability})\n",
    "\n",
    "\n",
    "\"\"\"\n",
    "DON'T MODIFY ANYTHING IN THIS CELL THAT IS BELOW THIS LINE\n",
    "\"\"\"\n",
    "tests.test_train_nn(train_neural_network)"
   ]
  },
  {
   "cell_type": "markdown",
   "metadata": {},
   "source": [
    "### Show Stats\n",
    "Implement the function `print_stats` to print loss and validation accuracy.  Use the global variables `valid_features` and `valid_labels` to calculate validation accuracy.  Use a keep probability of `1.0` to calculate the loss and validation accuracy."
   ]
  },
  {
   "cell_type": "code",
   "execution_count": 16,
   "metadata": {
    "collapsed": true
   },
   "outputs": [],
   "source": [
    "def print_stats(session, feature_batch, label_batch, cost, accuracy):\n",
    "    \"\"\"\n",
    "    Print information about loss and validation accuracy\n",
    "    : session: Current TensorFlow session\n",
    "    : feature_batch: Batch of Numpy image data\n",
    "    : label_batch: Batch of Numpy label data\n",
    "    : cost: TensorFlow cost function\n",
    "    : accuracy: TensorFlow accuracy function\n",
    "    \"\"\"\n",
    "    # TODO: Implement Function\n",
    "    loss = session.run(cost, feed_dict={x: feature_batch, y: label_batch, keep_prob: 1.})\n",
    "    valid_acc = session.run(accuracy, feed_dict={x: valid_features, y: valid_labels, keep_prob: 1.})\n",
    "\n",
    "    print('Loss: {} Validation Accuracy: {}'.format(loss, valid_acc))"
   ]
  },
  {
   "cell_type": "markdown",
   "metadata": {},
   "source": [
    "### Hyperparameters\n",
    "Tune the following parameters:\n",
    "* Set `epochs` to the number of iterations until the network stops learning or start overfitting\n",
    "* Set `batch_size` to the highest number that your machine has memory for.  Most people set them to common sizes of memory:\n",
    " * 64\n",
    " * 128\n",
    " * 256\n",
    " * ...\n",
    "* Set `keep_probability` to the probability of keeping a node using dropout"
   ]
  },
  {
   "cell_type": "code",
   "execution_count": 17,
   "metadata": {
    "collapsed": true
   },
   "outputs": [],
   "source": [
    "# TODO: Tune Parameters\n",
    "epochs = 20\n",
    "batch_size = 128\n",
    "keep_probability = 0.5"
   ]
  },
  {
   "cell_type": "markdown",
   "metadata": {},
   "source": [
    "### Train on a Single CIFAR-10 Batch\n",
    "Instead of training the neural network on all the CIFAR-10 batches of data, let's use a single batch. This should save time while you iterate on the model to get a better accuracy.  Once the final validation accuracy is 50% or greater, run the model on all the data in the next section."
   ]
  },
  {
   "cell_type": "code",
   "execution_count": 18,
   "metadata": {},
   "outputs": [
    {
     "name": "stdout",
     "output_type": "stream",
     "text": [
      "Checking the Training on a Single Batch...\n",
      "Epoch  1, CIFAR-10 Batch 1:  Loss: 2.2389321327209473 Validation Accuracy: 0.1648000031709671\n",
      "Epoch  2, CIFAR-10 Batch 1:  Loss: 2.1136651039123535 Validation Accuracy: 0.30559998750686646\n",
      "Epoch  3, CIFAR-10 Batch 1:  Loss: 1.9863224029541016 Validation Accuracy: 0.36000001430511475\n",
      "Epoch  4, CIFAR-10 Batch 1:  Loss: 1.8782860040664673 Validation Accuracy: 0.3853999972343445\n",
      "Epoch  5, CIFAR-10 Batch 1:  Loss: 1.7850055694580078 Validation Accuracy: 0.4052000045776367\n",
      "Epoch  6, CIFAR-10 Batch 1:  Loss: 1.701027274131775 Validation Accuracy: 0.4359999895095825\n",
      "Epoch  7, CIFAR-10 Batch 1:  Loss: 1.6643543243408203 Validation Accuracy: 0.44760000705718994\n",
      "Epoch  8, CIFAR-10 Batch 1:  Loss: 1.5496453046798706 Validation Accuracy: 0.4429999887943268\n",
      "Epoch  9, CIFAR-10 Batch 1:  Loss: 1.487109899520874 Validation Accuracy: 0.4438000023365021\n",
      "Epoch 10, CIFAR-10 Batch 1:  Loss: 1.4239689111709595 Validation Accuracy: 0.46799999475479126\n",
      "Epoch 11, CIFAR-10 Batch 1:  Loss: 1.3705151081085205 Validation Accuracy: 0.46700000762939453\n",
      "Epoch 12, CIFAR-10 Batch 1:  Loss: 1.3332548141479492 Validation Accuracy: 0.4713999927043915\n",
      "Epoch 13, CIFAR-10 Batch 1:  Loss: 1.3474633693695068 Validation Accuracy: 0.46639999747276306\n",
      "Epoch 14, CIFAR-10 Batch 1:  Loss: 1.2629129886627197 Validation Accuracy: 0.4885999858379364\n",
      "Epoch 15, CIFAR-10 Batch 1:  Loss: 1.244692087173462 Validation Accuracy: 0.48919999599456787\n",
      "Epoch 16, CIFAR-10 Batch 1:  Loss: 1.2827266454696655 Validation Accuracy: 0.4657999873161316\n",
      "Epoch 17, CIFAR-10 Batch 1:  Loss: 1.14882493019104 Validation Accuracy: 0.4934000074863434\n",
      "Epoch 18, CIFAR-10 Batch 1:  Loss: 1.1473299264907837 Validation Accuracy: 0.4918000102043152\n",
      "Epoch 19, CIFAR-10 Batch 1:  Loss: 1.0700104236602783 Validation Accuracy: 0.5049999952316284\n",
      "Epoch 20, CIFAR-10 Batch 1:  Loss: 1.1077253818511963 Validation Accuracy: 0.49459999799728394\n"
     ]
    }
   ],
   "source": [
    "\"\"\"\n",
    "DON'T MODIFY ANYTHING IN THIS CELL\n",
    "\"\"\"\n",
    "print('Checking the Training on a Single Batch...')\n",
    "with tf.Session() as sess:\n",
    "    # Initializing the variables\n",
    "    sess.run(tf.global_variables_initializer())\n",
    "    \n",
    "    # Training cycle\n",
    "    for epoch in range(epochs):\n",
    "        batch_i = 1\n",
    "        for batch_features, batch_labels in helper.load_preprocess_training_batch(batch_i, batch_size):\n",
    "            train_neural_network(sess, optimizer, keep_probability, batch_features, batch_labels)\n",
    "        print('Epoch {:>2}, CIFAR-10 Batch {}:  '.format(epoch + 1, batch_i), end='')\n",
    "        print_stats(sess, batch_features, batch_labels, cost, accuracy)"
   ]
  },
  {
   "cell_type": "markdown",
   "metadata": {},
   "source": [
    "### Fully Train the Model\n",
    "Now that you got a good accuracy with a single CIFAR-10 batch, try it with all five batches."
   ]
  },
  {
   "cell_type": "code",
   "execution_count": 19,
   "metadata": {},
   "outputs": [
    {
     "name": "stdout",
     "output_type": "stream",
     "text": [
      "Training...\n",
      "Epoch  1, CIFAR-10 Batch 1:  Loss: 2.2266182899475098 Validation Accuracy: 0.19920000433921814\n",
      "Epoch  1, CIFAR-10 Batch 2:  Loss: 2.1211791038513184 Validation Accuracy: 0.23100000619888306\n",
      "Epoch  1, CIFAR-10 Batch 3:  Loss: 1.9735084772109985 Validation Accuracy: 0.3050000071525574\n",
      "Epoch  1, CIFAR-10 Batch 4:  Loss: 1.911792516708374 Validation Accuracy: 0.3174000084400177\n",
      "Epoch  1, CIFAR-10 Batch 5:  Loss: 1.927446722984314 Validation Accuracy: 0.3797999918460846\n",
      "Epoch  2, CIFAR-10 Batch 1:  Loss: 1.9494918584823608 Validation Accuracy: 0.36160001158714294\n",
      "Epoch  2, CIFAR-10 Batch 2:  Loss: 1.7888500690460205 Validation Accuracy: 0.3880000114440918\n",
      "Epoch  2, CIFAR-10 Batch 3:  Loss: 1.6176468133926392 Validation Accuracy: 0.38359999656677246\n",
      "Epoch  2, CIFAR-10 Batch 4:  Loss: 1.6668106317520142 Validation Accuracy: 0.38440001010894775\n",
      "Epoch  2, CIFAR-10 Batch 5:  Loss: 1.7892001867294312 Validation Accuracy: 0.4163999855518341\n",
      "Epoch  3, CIFAR-10 Batch 1:  Loss: 1.81195867061615 Validation Accuracy: 0.4041999876499176\n",
      "Epoch  3, CIFAR-10 Batch 2:  Loss: 1.6606481075286865 Validation Accuracy: 0.41620001196861267\n",
      "Epoch  3, CIFAR-10 Batch 3:  Loss: 1.4630564451217651 Validation Accuracy: 0.4198000133037567\n",
      "Epoch  3, CIFAR-10 Batch 4:  Loss: 1.5679588317871094 Validation Accuracy: 0.4307999908924103\n",
      "Epoch  3, CIFAR-10 Batch 5:  Loss: 1.725298285484314 Validation Accuracy: 0.4311999976634979\n",
      "Epoch  4, CIFAR-10 Batch 1:  Loss: 1.7301791906356812 Validation Accuracy: 0.43160000443458557\n",
      "Epoch  4, CIFAR-10 Batch 2:  Loss: 1.568230152130127 Validation Accuracy: 0.4487999975681305\n",
      "Epoch  4, CIFAR-10 Batch 3:  Loss: 1.3515594005584717 Validation Accuracy: 0.42080000042915344\n",
      "Epoch  4, CIFAR-10 Batch 4:  Loss: 1.5051367282867432 Validation Accuracy: 0.4472000002861023\n",
      "Epoch  4, CIFAR-10 Batch 5:  Loss: 1.6615512371063232 Validation Accuracy: 0.4551999866962433\n",
      "Epoch  5, CIFAR-10 Batch 1:  Loss: 1.694594144821167 Validation Accuracy: 0.4442000091075897\n",
      "Epoch  5, CIFAR-10 Batch 2:  Loss: 1.5338613986968994 Validation Accuracy: 0.4620000123977661\n",
      "Epoch  5, CIFAR-10 Batch 3:  Loss: 1.3015944957733154 Validation Accuracy: 0.4535999894142151\n",
      "Epoch  5, CIFAR-10 Batch 4:  Loss: 1.4795418977737427 Validation Accuracy: 0.4596000015735626\n",
      "Epoch  5, CIFAR-10 Batch 5:  Loss: 1.5989024639129639 Validation Accuracy: 0.460999995470047\n",
      "Epoch  6, CIFAR-10 Batch 1:  Loss: 1.5631822347640991 Validation Accuracy: 0.4697999954223633\n",
      "Epoch  6, CIFAR-10 Batch 2:  Loss: 1.418596863746643 Validation Accuracy: 0.47920000553131104\n",
      "Epoch  6, CIFAR-10 Batch 3:  Loss: 1.1911500692367554 Validation Accuracy: 0.47999998927116394\n",
      "Epoch  6, CIFAR-10 Batch 4:  Loss: 1.4226356744766235 Validation Accuracy: 0.48539999127388\n",
      "Epoch  6, CIFAR-10 Batch 5:  Loss: 1.5190379619598389 Validation Accuracy: 0.48500001430511475\n",
      "Epoch  7, CIFAR-10 Batch 1:  Loss: 1.4993573427200317 Validation Accuracy: 0.48919999599456787\n",
      "Epoch  7, CIFAR-10 Batch 2:  Loss: 1.3586294651031494 Validation Accuracy: 0.475600004196167\n",
      "Epoch  7, CIFAR-10 Batch 3:  Loss: 1.1621911525726318 Validation Accuracy: 0.49239999055862427\n",
      "Epoch  7, CIFAR-10 Batch 4:  Loss: 1.3779871463775635 Validation Accuracy: 0.47099998593330383\n",
      "Epoch  7, CIFAR-10 Batch 5:  Loss: 1.4808746576309204 Validation Accuracy: 0.4869999885559082\n",
      "Epoch  8, CIFAR-10 Batch 1:  Loss: 1.4404423236846924 Validation Accuracy: 0.49140000343322754\n",
      "Epoch  8, CIFAR-10 Batch 2:  Loss: 1.261574387550354 Validation Accuracy: 0.5045999884605408\n",
      "Epoch  8, CIFAR-10 Batch 3:  Loss: 1.0646406412124634 Validation Accuracy: 0.5013999938964844\n",
      "Epoch  8, CIFAR-10 Batch 4:  Loss: 1.2805496454238892 Validation Accuracy: 0.5055999755859375\n",
      "Epoch  8, CIFAR-10 Batch 5:  Loss: 1.3952805995941162 Validation Accuracy: 0.5080000162124634\n",
      "Epoch  9, CIFAR-10 Batch 1:  Loss: 1.4351451396942139 Validation Accuracy: 0.4986000061035156\n",
      "Epoch  9, CIFAR-10 Batch 2:  Loss: 1.2618200778961182 Validation Accuracy: 0.5112000107765198\n",
      "Epoch  9, CIFAR-10 Batch 3:  Loss: 1.0948902368545532 Validation Accuracy: 0.5085999965667725\n",
      "Epoch  9, CIFAR-10 Batch 4:  Loss: 1.334357500076294 Validation Accuracy: 0.5041999816894531\n",
      "Epoch  9, CIFAR-10 Batch 5:  Loss: 1.437434196472168 Validation Accuracy: 0.5026000142097473\n",
      "Epoch 10, CIFAR-10 Batch 1:  Loss: 1.3685129880905151 Validation Accuracy: 0.5134000182151794\n",
      "Epoch 10, CIFAR-10 Batch 2:  Loss: 1.2006622552871704 Validation Accuracy: 0.5130000114440918\n",
      "Epoch 10, CIFAR-10 Batch 3:  Loss: 1.141068458557129 Validation Accuracy: 0.5091999769210815\n",
      "Epoch 10, CIFAR-10 Batch 4:  Loss: 1.2752338647842407 Validation Accuracy: 0.5198000073432922\n",
      "Epoch 10, CIFAR-10 Batch 5:  Loss: 1.3757368326187134 Validation Accuracy: 0.5145999789237976\n",
      "Epoch 11, CIFAR-10 Batch 1:  Loss: 1.4292218685150146 Validation Accuracy: 0.524399995803833\n",
      "Epoch 11, CIFAR-10 Batch 2:  Loss: 1.205587387084961 Validation Accuracy: 0.5099999904632568\n",
      "Epoch 11, CIFAR-10 Batch 3:  Loss: 1.0704076290130615 Validation Accuracy: 0.5145999789237976\n",
      "Epoch 11, CIFAR-10 Batch 4:  Loss: 1.2235708236694336 Validation Accuracy: 0.5249999761581421\n",
      "Epoch 11, CIFAR-10 Batch 5:  Loss: 1.3343080282211304 Validation Accuracy: 0.5267999768257141\n",
      "Epoch 12, CIFAR-10 Batch 1:  Loss: 1.3637845516204834 Validation Accuracy: 0.5220000147819519\n",
      "Epoch 12, CIFAR-10 Batch 2:  Loss: 1.153662085533142 Validation Accuracy: 0.5270000100135803\n",
      "Epoch 12, CIFAR-10 Batch 3:  Loss: 0.9901918172836304 Validation Accuracy: 0.5224000215530396\n",
      "Epoch 12, CIFAR-10 Batch 4:  Loss: 1.2068177461624146 Validation Accuracy: 0.5338000059127808\n",
      "Epoch 12, CIFAR-10 Batch 5:  Loss: 1.3295352458953857 Validation Accuracy: 0.5203999876976013\n",
      "Epoch 13, CIFAR-10 Batch 1:  Loss: 1.3808159828186035 Validation Accuracy: 0.5189999938011169\n",
      "Epoch 13, CIFAR-10 Batch 2:  Loss: 1.177199363708496 Validation Accuracy: 0.5228000283241272\n",
      "Epoch 13, CIFAR-10 Batch 3:  Loss: 0.9814054369926453 Validation Accuracy: 0.5249999761581421\n",
      "Epoch 13, CIFAR-10 Batch 4:  Loss: 1.2075430154800415 Validation Accuracy: 0.5270000100135803\n",
      "Epoch 13, CIFAR-10 Batch 5:  Loss: 1.2633039951324463 Validation Accuracy: 0.5145999789237976\n",
      "Epoch 14, CIFAR-10 Batch 1:  Loss: 1.3540735244750977 Validation Accuracy: 0.5055999755859375\n",
      "Epoch 14, CIFAR-10 Batch 2:  Loss: 1.1191532611846924 Validation Accuracy: 0.5266000032424927\n",
      "Epoch 14, CIFAR-10 Batch 3:  Loss: 0.9978162050247192 Validation Accuracy: 0.5425999760627747\n",
      "Epoch 14, CIFAR-10 Batch 4:  Loss: 1.1678613424301147 Validation Accuracy: 0.5343999862670898\n",
      "Epoch 14, CIFAR-10 Batch 5:  Loss: 1.278507947921753 Validation Accuracy: 0.5145999789237976\n",
      "Epoch 15, CIFAR-10 Batch 1:  Loss: 1.3079280853271484 Validation Accuracy: 0.5361999869346619\n",
      "Epoch 15, CIFAR-10 Batch 2:  Loss: 1.1227147579193115 Validation Accuracy: 0.5246000289916992\n",
      "Epoch 15, CIFAR-10 Batch 3:  Loss: 0.9777683019638062 Validation Accuracy: 0.5371999740600586\n",
      "Epoch 15, CIFAR-10 Batch 4:  Loss: 1.1895575523376465 Validation Accuracy: 0.5361999869346619\n",
      "Epoch 15, CIFAR-10 Batch 5:  Loss: 1.2305341958999634 Validation Accuracy: 0.5460000038146973\n",
      "Epoch 16, CIFAR-10 Batch 1:  Loss: 1.2512755393981934 Validation Accuracy: 0.5365999937057495\n",
      "Epoch 16, CIFAR-10 Batch 2:  Loss: 1.086926817893982 Validation Accuracy: 0.5382000207901001\n",
      "Epoch 16, CIFAR-10 Batch 3:  Loss: 1.0121837854385376 Validation Accuracy: 0.5299999713897705\n",
      "Epoch 16, CIFAR-10 Batch 4:  Loss: 1.1328061819076538 Validation Accuracy: 0.5332000255584717\n",
      "Epoch 16, CIFAR-10 Batch 5:  Loss: 1.1891496181488037 Validation Accuracy: 0.5379999876022339\n",
      "Epoch 17, CIFAR-10 Batch 1:  Loss: 1.285528540611267 Validation Accuracy: 0.5228000283241272\n",
      "Epoch 17, CIFAR-10 Batch 2:  Loss: 1.1289316415786743 Validation Accuracy: 0.5370000004768372\n",
      "Epoch 17, CIFAR-10 Batch 3:  Loss: 0.9663694500923157 Validation Accuracy: 0.5397999882698059\n",
      "Epoch 17, CIFAR-10 Batch 4:  Loss: 1.0936386585235596 Validation Accuracy: 0.5447999835014343\n",
      "Epoch 17, CIFAR-10 Batch 5:  Loss: 1.199508786201477 Validation Accuracy: 0.5260000228881836\n",
      "Epoch 18, CIFAR-10 Batch 1:  Loss: 1.2570133209228516 Validation Accuracy: 0.5425999760627747\n",
      "Epoch 18, CIFAR-10 Batch 2:  Loss: 1.0087380409240723 Validation Accuracy: 0.527999997138977\n",
      "Epoch 18, CIFAR-10 Batch 3:  Loss: 1.0187619924545288 Validation Accuracy: 0.5347999930381775\n",
      "Epoch 18, CIFAR-10 Batch 4:  Loss: 1.0932981967926025 Validation Accuracy: 0.5454000234603882\n",
      "Epoch 18, CIFAR-10 Batch 5:  Loss: 1.131585955619812 Validation Accuracy: 0.5410000085830688\n",
      "Epoch 19, CIFAR-10 Batch 1:  Loss: 1.2281745672225952 Validation Accuracy: 0.5364000201225281\n",
      "Epoch 19, CIFAR-10 Batch 2:  Loss: 1.0203917026519775 Validation Accuracy: 0.5411999821662903\n",
      "Epoch 19, CIFAR-10 Batch 3:  Loss: 0.9679805636405945 Validation Accuracy: 0.5389999747276306\n",
      "Epoch 19, CIFAR-10 Batch 4:  Loss: 1.1034584045410156 Validation Accuracy: 0.5436000227928162\n",
      "Epoch 19, CIFAR-10 Batch 5:  Loss: 1.1100884675979614 Validation Accuracy: 0.5371999740600586\n",
      "Epoch 20, CIFAR-10 Batch 1:  Loss: 1.227343201637268 Validation Accuracy: 0.5468000173568726\n",
      "Epoch 20, CIFAR-10 Batch 2:  Loss: 0.9640839695930481 Validation Accuracy: 0.5464000105857849\n",
      "Epoch 20, CIFAR-10 Batch 3:  Loss: 0.9899026155471802 Validation Accuracy: 0.5307999849319458\n",
      "Epoch 20, CIFAR-10 Batch 4:  Loss: 1.0694856643676758 Validation Accuracy: 0.5401999950408936\n",
      "Epoch 20, CIFAR-10 Batch 5:  Loss: 1.0981395244598389 Validation Accuracy: 0.5496000051498413\n"
     ]
    }
   ],
   "source": [
    "\"\"\"\n",
    "DON'T MODIFY ANYTHING IN THIS CELL\n",
    "\"\"\"\n",
    "save_model_path = './image_classification'\n",
    "\n",
    "print('Training...')\n",
    "with tf.Session() as sess:\n",
    "    # Initializing the variables\n",
    "    sess.run(tf.global_variables_initializer())\n",
    "    \n",
    "    # Training cycle\n",
    "    for epoch in range(epochs):\n",
    "        # Loop over all batches\n",
    "        n_batches = 5\n",
    "        for batch_i in range(1, n_batches + 1):\n",
    "            for batch_features, batch_labels in helper.load_preprocess_training_batch(batch_i, batch_size):\n",
    "                train_neural_network(sess, optimizer, keep_probability, batch_features, batch_labels)\n",
    "            print('Epoch {:>2}, CIFAR-10 Batch {}:  '.format(epoch + 1, batch_i), end='')\n",
    "            print_stats(sess, batch_features, batch_labels, cost, accuracy)\n",
    "            \n",
    "    # Save Model\n",
    "    saver = tf.train.Saver()\n",
    "    save_path = saver.save(sess, save_model_path)"
   ]
  },
  {
   "cell_type": "markdown",
   "metadata": {},
   "source": [
    "# Checkpoint\n",
    "The model has been saved to disk.\n",
    "## Test Model\n",
    "Test your model against the test dataset.  This will be your final accuracy. You should have an accuracy greater than 50%. If you don't, keep tweaking the model architecture and parameters."
   ]
  },
  {
   "cell_type": "code",
   "execution_count": 23,
   "metadata": {},
   "outputs": [
    {
     "name": "stdout",
     "output_type": "stream",
     "text": [
      "INFO:tensorflow:Restoring parameters from ./image_classification\n",
      "Testing Accuracy: 0.5471716772151899\n",
      "\n"
     ]
    },
    {
     "data": {
      "image/png": "[encoded data removed]",
      "text/plain": [
       "<matplotlib.figure.Figure at 0x7f4fa2afba20>"
      ]
     },
     "metadata": {
      "image/png": {
       "height": 319,
       "width": 355
      }
     },
     "output_type": "display_data"
    }
   ],
   "source": [
    "\"\"\"\n",
    "DON'T MODIFY ANYTHING IN THIS CELL\n",
    "\"\"\"\n",
    "%matplotlib inline\n",
    "%config InlineBackend.figure_format = 'retina'\n",
    "\n",
    "import tensorflow as tf\n",
    "import pickle\n",
    "import helper\n",
    "import random\n",
    "\n",
    "# Set batch size if not already set\n",
    "try:\n",
    "    if batch_size:\n",
    "        pass\n",
    "except NameError:\n",
    "    batch_size = 64\n",
    "\n",
    "save_model_path = './image_classification'\n",
    "n_samples = 4\n",
    "top_n_predictions = 3\n",
    "\n",
    "def test_model():\n",
    "    \"\"\"\n",
    "    Test the saved model against the test dataset\n",
    "    \"\"\"\n",
    "\n",
    "    test_features, test_labels = pickle.load(open('preprocess_test.p', mode='rb'))\n",
    "    loaded_graph = tf.Graph()\n",
    "\n",
    "    with tf.Session(graph=loaded_graph) as sess:\n",
    "        # Load model\n",
    "        loader = tf.train.import_meta_graph(save_model_path + '.meta')\n",
    "        loader.restore(sess, save_model_path)\n",
    "\n",
    "        # Get Tensors from loaded model\n",
    "        loaded_x = loaded_graph.get_tensor_by_name('x:0')\n",
    "        loaded_y = loaded_graph.get_tensor_by_name('y:0')\n",
    "        loaded_keep_prob = loaded_graph.get_tensor_by_name('keep_prob:0')\n",
    "        loaded_logits = loaded_graph.get_tensor_by_name('logits:0')\n",
    "        loaded_acc = loaded_graph.get_tensor_by_name('accuracy:0')\n",
    "        \n",
    "        # Get accuracy in batches for memory limitations\n",
    "        test_batch_acc_total = 0\n",
    "        test_batch_count = 0\n",
    "        \n",
    "        for test_feature_batch, test_label_batch in helper.batch_features_labels(test_features, test_labels, batch_size):\n",
    "            test_batch_acc_total += sess.run(\n",
    "                loaded_acc,\n",
    "                feed_dict={loaded_x: test_feature_batch, loaded_y: test_label_batch, loaded_keep_prob: 1.0})\n",
    "            test_batch_count += 1\n",
    "\n",
    "        print('Testing Accuracy: {}\\n'.format(test_batch_acc_total/test_batch_count))\n",
    "\n",
    "        # Print Random Samples\n",
    "        random_test_features, random_test_labels = tuple(zip(*random.sample(list(zip(test_features, test_labels)), n_samples)))\n",
    "        random_test_predictions = sess.run(\n",
    "            tf.nn.top_k(tf.nn.softmax(loaded_logits), top_n_predictions),\n",
    "            feed_dict={loaded_x: random_test_features, loaded_y: random_test_labels, loaded_keep_prob: 1.0})\n",
    "        helper.display_image_predictions(random_test_features, random_test_labels, random_test_predictions)\n",
    "\n",
    "\n",
    "test_model()"
   ]
  },
  {
   "cell_type": "markdown",
   "metadata": {},
   "source": [
    "## Why 50-80% Accuracy?\n",
    "You might be wondering why you can't get an accuracy any higher. First things first, 50% isn't bad for a simple CNN.  Pure guessing would get you 10% accuracy. However, you might notice people are getting scores [well above 80%](http://rodrigob.github.io/are_we_there_yet/build/classification_datasets_results.html#43494641522d3130).  That's because we haven't taught you all there is to know about neural networks. We still need to cover a few more techniques.\n",
    "## Submitting This Project\n",
    "When submitting this project, make sure to run all the cells before saving the notebook.  Save the notebook file as \"dlnd_image_classification.ipynb\" and save it as a HTML file under \"File\" -> \"Download as\".  Include the \"helper.py\" and \"problem_unittests.py\" files in your submission."
   ]
  }
 ],
 "metadata": {
  "kernelspec": {
   "display_name": "Python 3",
   "language": "python",
   "name": "python3"
  },
  "language_info": {
   "codemirror_mode": {
    "name": "ipython",
    "version": 3
   },
   "file_extension": ".py",
   "mimetype": "text/x-python",
   "name": "python",
   "nbconvert_exporter": "python",
   "pygments_lexer": "ipython3",
   "version": "3.5.3"
  }
 },
 "nbformat": 4,
 "nbformat_minor": 1
}
